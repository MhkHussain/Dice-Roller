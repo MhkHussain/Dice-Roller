{
 "cells": [
  {
   "cell_type": "code",
   "execution_count": null,
   "id": "1553abbd",
   "metadata": {},
   "outputs": [],
   "source": [
    "from tkinter import*\n",
    "App = Tk()\n",
    "App.title(\"Dice Roller\")\n",
    "App.geometry(\"450x450\")\n",
    "\n",
    "\n",
    "die = {\n",
    "    0 : '🎲',\n",
    "    1 : '⚀',\n",
    "    2 : '⚁',\n",
    "    3 : '⚂',\n",
    "    4 : '⚃',\n",
    "    5 : '⚄',\n",
    "    6 : '⚅'\n",
    "}\n",
    "\n",
    "\n",
    "\n",
    "dice=Label(App, text=die[0], font=('Times',100), fg=\"red\")\n",
    "dice.grid(row=2, column=2, padx=40)\n",
    "\n",
    "def roll():\n",
    "    from random import randint\n",
    "    i=randint(1,6)\n",
    "    msg= Label(App, text=die[i], font=('Times',100), fg=\"Purple\",width=2)\n",
    "    msg.grid(row=0, column =0, padx=40)\n",
    "    \n",
    "roll_butt=Button(App,text=\"Roll\",command=roll, font=('Arial',15), fg =\"Purple\", bg=\"Pink\" )\n",
    "roll_butt.grid(row=4, column=2, padx=40)\n",
    "\n",
    "App.mainloop()\n",
    "\n"
   ]
  },
  {
   "cell_type": "code",
   "execution_count": null,
   "id": "a4da1acc",
   "metadata": {},
   "outputs": [],
   "source": []
  }
 ],
 "metadata": {
  "kernelspec": {
   "display_name": "Python 3 (ipykernel)",
   "language": "python",
   "name": "python3"
  },
  "language_info": {
   "codemirror_mode": {
    "name": "ipython",
    "version": 3
   },
   "file_extension": ".py",
   "mimetype": "text/x-python",
   "name": "python",
   "nbconvert_exporter": "python",
   "pygments_lexer": "ipython3",
   "version": "3.8.9"
  }
 },
 "nbformat": 4,
 "nbformat_minor": 5
}
